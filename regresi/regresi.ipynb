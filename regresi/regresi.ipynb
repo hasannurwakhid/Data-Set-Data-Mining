{
 "cells": [
  {
   "cell_type": "markdown",
   "metadata": {},
   "source": [
    "# Nama : Hasan Nur Wakhid\n",
    "\n",
    "# NIM : A11.2021.13853"
   ]
  },
  {
   "cell_type": "markdown",
   "metadata": {
    "id": "sb3uOVZNzCsV"
   },
   "source": [
    "**Mempersiapkan Library yang diperlukan :**\n",
    "1.   **Numpy** => library yang akan digunakan untuk kebutuhan scientific dan matematika.\n",
    "2.   **Pandas** => library yang digunakan untuk manipulasi data seperti membuat tabel, mengubah dimensi data, mengecek data, dsb. Pandas mampu membaca berbagai format file seperti file .txt, .csv, .tsv, .xls dll.\n",
    "\n",
    "1.   **Matplotlib** => Library yang digunakan untuk membuat grafik plot sesuai kebutuhan.\n",
    "2.   **Sklearn** => library untuk berbagai metode dan algoritma yang digunakan dalam machine learning.\n",
    "\n",
    "\n",
    "\n"
   ]
  },
  {
   "cell_type": "code",
   "execution_count": null,
   "metadata": {
    "id": "ACBfZmJFyx_O"
   },
   "outputs": [],
   "source": [
    "# Mempersiapkan library\n",
    "import numpy as np\n",
    "import pandas as pd\n",
    "import matplotlib.pyplot as plt\n",
    "import sklearn"
   ]
  },
  {
   "cell_type": "code",
   "execution_count": null,
   "metadata": {
    "id": "TgCS6rF20kyC"
   },
   "outputs": [],
   "source": [
    "# Memanggil Dataset\n",
    "dataset = pd.read_csv('score.csv')\n",
    "x = dataset.iloc[:, :-1].values\n",
    "y = dataset.iloc[:, 1].values"
   ]
  },
  {
   "cell_type": "code",
   "execution_count": null,
   "metadata": {
    "colab": {
     "base_uri": "https://localhost:8080/"
    },
    "id": "IF7FMnsZ0r7w",
    "outputId": "a849c9b0-a138-4366-fa2e-967849982896"
   },
   "outputs": [],
   "source": [
    "dataset.keys()"
   ]
  },
  {
   "cell_type": "code",
   "execution_count": null,
   "metadata": {
    "colab": {
     "base_uri": "https://localhost:8080/"
    },
    "id": "gM_p1fd4_De3",
    "outputId": "e6bbdfec-253c-41a6-be69-f1ef9efcdd6a"
   },
   "outputs": [],
   "source": [
    "dataset.shape"
   ]
  },
  {
   "cell_type": "code",
   "execution_count": null,
   "metadata": {
    "colab": {
     "base_uri": "https://localhost:8080/",
     "height": 201
    },
    "id": "-akG_e5Z_LrO",
    "outputId": "1fb2b640-4ee8-41a7-e2c2-0f0734fc1fb1"
   },
   "outputs": [],
   "source": [
    "# Menampilkan isi sebagian dataset\n",
    "dataku = pd.DataFrame(dataset)\n",
    "dataku.head()"
   ]
  },
  {
   "cell_type": "code",
   "execution_count": null,
   "metadata": {
    "id": "XBW3jasE_iZA"
   },
   "outputs": [],
   "source": [
    "# Split Dataset menjadi Training Set dan Testing Set\n",
    "from sklearn.model_selection import train_test_split\n",
    "x_train, x_test, y_train, y_test = train_test_split(x, y, test_size = 0.2, random_state=0)"
   ]
  },
  {
   "cell_type": "code",
   "execution_count": null,
   "metadata": {
    "colab": {
     "base_uri": "https://localhost:8080/"
    },
    "id": "VQdjknrb_6FY",
    "outputId": "ba501d48-1a44-48cd-dc8a-57823d2fcf9f"
   },
   "outputs": [],
   "source": [
    "# Melakukan Fitting Simple Linear Regression pada Training Set\n",
    "from sklearn.linear_model import LinearRegression\n",
    "regressor = LinearRegression()\n",
    "regressor.fit(x_train, y_train)"
   ]
  },
  {
   "cell_type": "code",
   "execution_count": null,
   "metadata": {
    "id": "GBNMiWZ-AOFe"
   },
   "outputs": [],
   "source": [
    "# Memprediksi hasil Test-Set\n",
    "y_pred = regressor.predict(x_test)"
   ]
  },
  {
   "cell_type": "code",
   "execution_count": null,
   "metadata": {
    "colab": {
     "base_uri": "https://localhost:8080/",
     "height": 312
    },
    "id": "oGtZpIphF0NX",
    "outputId": "2a0a2450-39b3-45d7-9126-49af350e4560"
   },
   "outputs": [],
   "source": [
    "# Visualisasi Data\n",
    "plt.scatter(dataku.Hours, dataku.Scores)\n",
    "plt.xlabel(\"Hours\")\n",
    "plt.ylabel(\"Scores\")\n",
    "plt.title(\"Grafik Hours vs Nilai Scores\")\n",
    "plt.show"
   ]
  },
  {
   "cell_type": "code",
   "execution_count": null,
   "metadata": {
    "colab": {
     "base_uri": "https://localhost:8080/",
     "height": 513
    },
    "id": "cTL2yvdiH3gf",
    "outputId": "36b3d561-3aad-4c86-bd2b-cb7e7ec28b20"
   },
   "outputs": [],
   "source": [
    "# Visualisasi Hasil Prediksi Pada Training-Set\n",
    "# Ukuran Plot\n",
    "plt.figure(figsize=(10,8))\n",
    "\n",
    "# Biru adalah data observasi\n",
    "plt.scatter(x_train, y_train, color = 'blue')\n",
    "\n",
    "# Garis merah adalah hasil prediksi dari machine learning\n",
    "plt.plot(x_train, regressor.predict(x_train), color = 'red')\n",
    "\n",
    "# Memberi Judul dan Label\n",
    "plt.title('Hours terhadap Scores (Training Set)')\n",
    "plt.xlabel('Hours')\n",
    "plt.ylabel('Scores')\n",
    "\n",
    "# Menampilkan plot\n",
    "plt.show()"
   ]
  },
  {
   "cell_type": "code",
   "execution_count": null,
   "metadata": {
    "colab": {
     "base_uri": "https://localhost:8080/",
     "height": 513
    },
    "id": "GcRQ-Zz1J8oJ",
    "outputId": "543af172-d82e-4aa6-f38e-ab6398899854"
   },
   "outputs": [],
   "source": [
    "# Visualisasi Hasil Prediksi Pada Test-Set\n",
    "# Ukuran Plot\n",
    "plt.figure(figsize=(10,8))\n",
    "\n",
    "# Biru adalah data observasi\n",
    "plt.scatter(x_test, y_test, color = 'blue')\n",
    "\n",
    "# Garis merah adalah hasil prediksi dari machine learning\n",
    "plt.plot(x_test, regressor.predict(x_test), color = 'red')\n",
    "\n",
    "# Memberi Judul dan Label\n",
    "plt.title('Hours terhadap Scores (Test Set)')\n",
    "plt.xlabel('Hours')\n",
    "plt.ylabel('Scores')\n",
    "\n",
    "# Menampilkan plot\n",
    "plt.show()"
   ]
  }
 ],
 "metadata": {
  "colab": {
   "provenance": []
  },
  "kernelspec": {
   "display_name": "Python 3 (ipykernel)",
   "language": "python",
   "name": "python3"
  },
  "language_info": {
   "codemirror_mode": {
    "name": "ipython",
    "version": 3
   },
   "file_extension": ".py",
   "mimetype": "text/x-python",
   "name": "python",
   "nbconvert_exporter": "python",
   "pygments_lexer": "ipython3",
   "version": "3.9.13"
  }
 },
 "nbformat": 4,
 "nbformat_minor": 1
}
