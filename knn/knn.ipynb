{
 "cells": [
  {
   "cell_type": "markdown",
   "metadata": {},
   "source": [
    "# Identitas Diri\n",
    "\n",
    "Nama : Hasan Nur Wakhid\n",
    "\n",
    "NIM  : A11.2021.13853"
   ]
  },
  {
   "cell_type": "markdown",
   "metadata": {
    "colab_type": "text",
    "id": "0MRC0e0KhQ0S"
   },
   "source": [
    "# K-Nearest Neighbors (K-NN)"
   ]
  },
  {
   "cell_type": "markdown",
   "metadata": {
    "colab_type": "text",
    "id": "LWd1UlMnhT2s"
   },
   "source": [
    "# Menambahkan library\n",
    " \"numpy\" berguna memudahkan kita melakukan perhitungan saintifik seperti matriks, aljabar, statistik, dan sebagainya.    \n",
    " \"matpotlib.pyplot\" berguna untuk memvisualisaikan data melalui grafik atau diagram      \n",
    " \"pandas\" berguna untuk memproses data, mulai pembersihan data, manipulasi data, hingga melakukan analisis data."
   ]
  },
  {
   "cell_type": "code",
   "execution_count": 1,
   "metadata": {
    "colab": {},
    "colab_type": "code",
    "id": "YvGPUQaHhXfL"
   },
   "outputs": [],
   "source": [
    "import numpy as np\n",
    "import matplotlib.pyplot as plt\n",
    "import pandas as pd"
   ]
  },
  {
   "cell_type": "markdown",
   "metadata": {
    "colab_type": "text",
    "id": "K1VMqkGvhc3-"
   },
   "source": [
    "# Impor dataset\n",
    "Memuat dataset serta memberikan nilai pada variabel x dan y (label) serta menampilkannya"
   ]
  },
  {
   "cell_type": "code",
   "execution_count": 2,
   "metadata": {
    "colab": {},
    "colab_type": "code",
    "id": "M52QDmyzhh9s"
   },
   "outputs": [],
   "source": [
    "dataset = pd.read_csv('exams.csv')\n",
    "X = dataset.iloc[:, [6, 7]].values\n",
    "y = dataset.iloc[:, 4].values"
   ]
  },
  {
   "cell_type": "markdown",
   "metadata": {},
   "source": [
    "menampilkan 5 data teratas pada dataset"
   ]
  },
  {
   "cell_type": "code",
   "execution_count": 3,
   "metadata": {},
   "outputs": [
    {
     "data": {
      "text/html": [
       "<div>\n",
       "<style scoped>\n",
       "    .dataframe tbody tr th:only-of-type {\n",
       "        vertical-align: middle;\n",
       "    }\n",
       "\n",
       "    .dataframe tbody tr th {\n",
       "        vertical-align: top;\n",
       "    }\n",
       "\n",
       "    .dataframe thead th {\n",
       "        text-align: right;\n",
       "    }\n",
       "</style>\n",
       "<table border=\"1\" class=\"dataframe\">\n",
       "  <thead>\n",
       "    <tr style=\"text-align: right;\">\n",
       "      <th></th>\n",
       "      <th>gender</th>\n",
       "      <th>ethnicity</th>\n",
       "      <th>parental_level_of_education</th>\n",
       "      <th>lunch</th>\n",
       "      <th>test_preparation_course</th>\n",
       "      <th>math_score</th>\n",
       "      <th>reading_score</th>\n",
       "      <th>writing_score</th>\n",
       "    </tr>\n",
       "  </thead>\n",
       "  <tbody>\n",
       "    <tr>\n",
       "      <th>0</th>\n",
       "      <td>female</td>\n",
       "      <td>group D</td>\n",
       "      <td>some college</td>\n",
       "      <td>standard</td>\n",
       "      <td>1</td>\n",
       "      <td>59.0</td>\n",
       "      <td>70</td>\n",
       "      <td>78</td>\n",
       "    </tr>\n",
       "    <tr>\n",
       "      <th>1</th>\n",
       "      <td>male</td>\n",
       "      <td>group D</td>\n",
       "      <td>associate's degree</td>\n",
       "      <td>standard</td>\n",
       "      <td>0</td>\n",
       "      <td>96.0</td>\n",
       "      <td>93</td>\n",
       "      <td>87</td>\n",
       "    </tr>\n",
       "    <tr>\n",
       "      <th>2</th>\n",
       "      <td>female</td>\n",
       "      <td>group D</td>\n",
       "      <td>some college</td>\n",
       "      <td>free/reduced</td>\n",
       "      <td>0</td>\n",
       "      <td>57.0</td>\n",
       "      <td>76</td>\n",
       "      <td>77</td>\n",
       "    </tr>\n",
       "    <tr>\n",
       "      <th>3</th>\n",
       "      <td>male</td>\n",
       "      <td>group B</td>\n",
       "      <td>some college</td>\n",
       "      <td>free/reduced</td>\n",
       "      <td>0</td>\n",
       "      <td>70.0</td>\n",
       "      <td>70</td>\n",
       "      <td>63</td>\n",
       "    </tr>\n",
       "    <tr>\n",
       "      <th>4</th>\n",
       "      <td>NaN</td>\n",
       "      <td>group D</td>\n",
       "      <td>associate's degree</td>\n",
       "      <td>standard</td>\n",
       "      <td>0</td>\n",
       "      <td>83.0</td>\n",
       "      <td>85</td>\n",
       "      <td>86</td>\n",
       "    </tr>\n",
       "  </tbody>\n",
       "</table>\n",
       "</div>"
      ],
      "text/plain": [
       "   gender ethnicity parental_level_of_education         lunch  \\\n",
       "0  female   group D                some college      standard   \n",
       "1    male   group D          associate's degree      standard   \n",
       "2  female   group D                some college  free/reduced   \n",
       "3    male   group B                some college  free/reduced   \n",
       "4     NaN   group D          associate's degree      standard   \n",
       "\n",
       "   test_preparation_course  math_score  reading_score  writing_score  \n",
       "0                        1        59.0             70             78  \n",
       "1                        0        96.0             93             87  \n",
       "2                        0        57.0             76             77  \n",
       "3                        0        70.0             70             63  \n",
       "4                        0        83.0             85             86  "
      ]
     },
     "execution_count": 3,
     "metadata": {},
     "output_type": "execute_result"
    }
   ],
   "source": [
    "dataset.head()"
   ]
  },
  {
   "cell_type": "code",
   "execution_count": 4,
   "metadata": {},
   "outputs": [
    {
     "name": "stdout",
     "output_type": "stream",
     "text": [
      "[[70 78]\n",
      " [93 87]\n",
      " [76 77]\n",
      " ...\n",
      " [86 86]\n",
      " [72 62]\n",
      " [47 45]]\n"
     ]
    }
   ],
   "source": [
    "print(X)"
   ]
  },
  {
   "cell_type": "code",
   "execution_count": 5,
   "metadata": {},
   "outputs": [
    {
     "name": "stdout",
     "output_type": "stream",
     "text": [
      "[1 0 0 0 0 0 0 0 0 1 0 0 0 0 0 0 0 0 0 1 0 1 0 0 1 0 0 0 0 0 1 0 1 0 1 0 0\n",
      " 1 1 0 1 1 0 0 0 0 1 1 0 1 1 1 0 1 0 0 0 1 0 0 1 1 0 0 0 0 0 1 0 0 1 1 0 1\n",
      " 1 0 1 0 1 0 0 1 0 1 0 0 1 0 0 0 1 0 0 0 0 1 1 0 1 0 0 0 0 0 0 0 1 0 1 0 1\n",
      " 0 1 1 1 0 0 1 0 0 1 0 1 0 1 0 1 1 0 0 0 0 1 0 1 0 0 0 0 0 0 0 0 0 0 1 0 0\n",
      " 0 0 1 0 0 0 0 0 1 1 1 0 0 0 1 1 0 0 0 0 1 1 1 0 1 0 0 0 0 0 1 0 0 0 0 1 1\n",
      " 0 0 0 0 0 0 1 0 1 0 0 1 0 1 1 1 0 0 0 0 0 0 0 0 1 0 1 0 0 0 1 0 1 0 0 0 1\n",
      " 1 0 0 0 1 0 0 0 1 0 0 0 1 0 1 1 1 0 1 0 0 0 1 1 1 0 1 0 0 0 1 1 0 0 0 1 1\n",
      " 0 0 1 0 0 0 0 0 0 0 1 0 1 0 0 0 0 0 1 0 0 0 0 0 0 1 1 0 0 0 0 0 0 0 0 0 0\n",
      " 1 0 0 1 0 0 1 0 1 1 0 0 1 0 1 0 1 0 0 0 0 0 0 0 1 0 1 1 0 0 0 0 1 0 0 0 0\n",
      " 0 0 0 0 1 1 1 0 0 0 1 0 0 0 0 0 0 0 0 0 0 1 0 1 0 1 1 0 0 1 0 1 1 0 1 0 0\n",
      " 0 1 1 0 0 0 0 1 1 1 1 0 0 0 1 0 1 1 0 1 0 0 0 0 0 1 0 0 0 0 0 0 0 0 0 1 0\n",
      " 0 1 0 1 0 0 1 0 0 0 0 0 1 0 1 1 0 1 0 0 1 0 0 0 0 1 0 0 1 1 0 1 0 0 0 0 1\n",
      " 1 1 0 0 0 0 0 0 0 0 0 0 0 1 0 0 0 1 0 0 0 1 1 0 0 1 0 1 1 1 0 0 1 0 0 0 0\n",
      " 0 0 0 0 1 0 1 1 1 0 1 0 0 1 0 0 0 0 0 0 1 0 0 1 1 0 0 1 0 1 0 0 0 0 1 1 0\n",
      " 1 1 0 1 1 1 0 1 0 1 1 0 1 1 0 1 1 1 1 0 1 1 1 0 0 1 0 0 0 0 1 1 0 1 0 0 0\n",
      " 1 1 0 0 1 1 0 0 0 1 0 1 1 0 1 0 0 0 0 0 1 0 0 0 0 1 0 1 0 0 0 0 0 0 1 1 0\n",
      " 0 0 0 0 1 1 0 1 0 0 0 0 0 0 0 1 1 1 0 0 1 1 1 1 1 1 1 0 0 1 0 0 1 1 0 1 0\n",
      " 1 0 1 0 1 0 1 0 1 0 0 1 0 0 1 0 1 0 0 1 0 1 1 0 1 0 0 0 1 0 0 0 1 0 1 1 1\n",
      " 0 1 1 1 0 0 1 0 0 0 1 0 0 1 1 0 0 1 0 0 0 0 0 1 0 1 0 0 1 1 0 0 0 0 0 0 0\n",
      " 0 0 0 1 1 0 0 1 0 0 0 1 0 1 0 0 1 0 1 0 1 0 0 0 0 0 0 0 1 1 0 1 0 0 1 1 1\n",
      " 1 0 0 0 0 0 0 1 0 1 0 0 0 1 0 0 1 1 0 0 1 0 0 0 0 0 1 0 0 1 0 0 1 1 0 1 0\n",
      " 1 0 1 1 0 0 0 0 0 0 0 0 0 0 0 0 0 0 0 0 1 0 0 0 0 0 1 0 0 0 0 1 1 1 0 1 1\n",
      " 0 0 0 0 1 1 0 0 0 1 0 0 0 0 0 0 0 1 1 0 0 1 1 0 0 1 1 1 0 1 1 1 0 1 1 1 0\n",
      " 0 0 1 0 0 0 1 1 0 1 1 0 0 1 1 1 0 0 0 1 0 0 0 0 1 0 1 0 0 0 0 0 0 0 0 0 0\n",
      " 0 1 0 0 0 0 0 0 1 1 0 1 0 0 1 0 0 0 0 1 0 1 1 1 1 0 1 0 0 0 0 0 0 1 0 0 0\n",
      " 0 1 0 1 0 0 0 0 0 0 0 0 0 0 0 0 1 0 0 0 0 1 0 1 0 1 0 0 1 0 0 0 0 0 1 1 1\n",
      " 1 0 0 0 0 0 0 0 0 0 1 1 1 0 0 0 0 0 0 1 0 1 0 0 0 1 0 1 0 0 1 0 0 0 0 1 0\n",
      " 0]\n"
     ]
    }
   ],
   "source": [
    "print(y)"
   ]
  },
  {
   "cell_type": "markdown",
   "metadata": {
    "colab_type": "text",
    "id": "YvxIPVyMhmKp"
   },
   "source": [
    "## Membagi dataset ke dalam Training set dan Test set\n",
    "membagi data set ke 75 persen untuk training set dan 25 persen untuk testing set"
   ]
  },
  {
   "cell_type": "code",
   "execution_count": 6,
   "metadata": {
    "colab": {},
    "colab_type": "code",
    "id": "AVzJWAXIhxoC"
   },
   "outputs": [],
   "source": [
    "from sklearn.model_selection import train_test_split\n",
    "X_train, X_test, y_train, y_test = train_test_split(X, y, test_size = 0.25, random_state = 0)"
   ]
  },
  {
   "cell_type": "code",
   "execution_count": 7,
   "metadata": {},
   "outputs": [
    {
     "name": "stdout",
     "output_type": "stream",
     "text": [
      "[[73 72]\n",
      " [65 69]\n",
      " [97 91]\n",
      " ...\n",
      " [58 60]\n",
      " [65 65]\n",
      " [86 88]]\n"
     ]
    }
   ],
   "source": [
    "print(X_train)"
   ]
  },
  {
   "cell_type": "markdown",
   "metadata": {},
   "source": [
    "Mengecek panjang dari X, y, X_train, X_test, y_train, dan y_test"
   ]
  },
  {
   "cell_type": "code",
   "execution_count": 8,
   "metadata": {},
   "outputs": [
    {
     "data": {
      "text/plain": [
       "1000"
      ]
     },
     "execution_count": 8,
     "metadata": {},
     "output_type": "execute_result"
    }
   ],
   "source": [
    "len(X)"
   ]
  },
  {
   "cell_type": "code",
   "execution_count": 9,
   "metadata": {},
   "outputs": [
    {
     "data": {
      "text/plain": [
       "750"
      ]
     },
     "execution_count": 9,
     "metadata": {},
     "output_type": "execute_result"
    }
   ],
   "source": [
    "len(X_train)"
   ]
  },
  {
   "cell_type": "code",
   "execution_count": 10,
   "metadata": {},
   "outputs": [
    {
     "data": {
      "text/plain": [
       "250"
      ]
     },
     "execution_count": 10,
     "metadata": {},
     "output_type": "execute_result"
    }
   ],
   "source": [
    "len(X_test)"
   ]
  },
  {
   "cell_type": "code",
   "execution_count": 11,
   "metadata": {},
   "outputs": [
    {
     "data": {
      "text/plain": [
       "1000"
      ]
     },
     "execution_count": 11,
     "metadata": {},
     "output_type": "execute_result"
    }
   ],
   "source": [
    "len(y)"
   ]
  },
  {
   "cell_type": "code",
   "execution_count": 12,
   "metadata": {},
   "outputs": [
    {
     "data": {
      "text/plain": [
       "750"
      ]
     },
     "execution_count": 12,
     "metadata": {},
     "output_type": "execute_result"
    }
   ],
   "source": [
    "len(y_train)"
   ]
  },
  {
   "cell_type": "code",
   "execution_count": 13,
   "metadata": {},
   "outputs": [
    {
     "data": {
      "text/plain": [
       "250"
      ]
     },
     "execution_count": 13,
     "metadata": {},
     "output_type": "execute_result"
    }
   ],
   "source": [
    "len(y_test)"
   ]
  },
  {
   "cell_type": "markdown",
   "metadata": {
    "colab_type": "text",
    "id": "kW3c7UYih0hT"
   },
   "source": [
    "## Feature Scaling\n",
    "mengubah nilai numerik dalam dataset ke skala umum, tanpa mendistorsi perbedaan dalam rentang nilai"
   ]
  },
  {
   "cell_type": "code",
   "execution_count": 14,
   "metadata": {
    "colab": {},
    "colab_type": "code",
    "id": "9fQlDPKCh8sc"
   },
   "outputs": [],
   "source": [
    "from sklearn.preprocessing import StandardScaler\n",
    "sc = StandardScaler()\n",
    "X_train = sc.fit_transform(X_train)\n",
    "X_test = sc.transform(X_test)"
   ]
  },
  {
   "cell_type": "markdown",
   "metadata": {},
   "source": [
    "menampilkan X_train"
   ]
  },
  {
   "cell_type": "code",
   "execution_count": 15,
   "metadata": {},
   "outputs": [
    {
     "name": "stdout",
     "output_type": "stream",
     "text": [
      "[[ 0.15680811  0.16889231]\n",
      " [-0.41374899 -0.03079644]\n",
      " [ 1.86847942  1.43358776]\n",
      " ...\n",
      " [-0.91298646 -0.62986271]\n",
      " [-0.41374899 -0.29704812]\n",
      " [ 1.0839634   1.233899  ]]\n"
     ]
    }
   ],
   "source": [
    "print(X_train)"
   ]
  },
  {
   "cell_type": "markdown",
   "metadata": {},
   "source": [
    "menampilkan X_test"
   ]
  },
  {
   "cell_type": "code",
   "execution_count": 16,
   "metadata": {},
   "outputs": [
    {
     "name": "stdout",
     "output_type": "stream",
     "text": [
      "[[ 0.22812775  0.70139566]\n",
      " [ 0.29944739  0.36858107]\n",
      " [-1.05562573 -1.49518065]\n",
      " [-1.76882211 -1.29549189]\n",
      " [ 0.5134063   0.10232939]\n",
      " [-0.34242935 -0.03079644]\n",
      " [-0.34242935 -0.69642563]\n",
      " [ 0.65604557  0.90108441]\n",
      " [-0.62770791 -1.02924022]\n",
      " [ 0.72736521  0.16889231]\n",
      " [ 1.29792231  1.16733609]\n",
      " [ 1.44056159  0.76795858]\n",
      " [-0.12847044  0.03576647]\n",
      " [-1.05562573 -1.49518065]\n",
      " [ 0.44208666  0.36858107]\n",
      " [-0.48506863 -0.56329979]\n",
      " [-0.41374899 -0.29704812]\n",
      " [ 0.01416883  0.30201815]\n",
      " [-1.19826501 -1.16236605]\n",
      " [-0.69902754 -0.69642563]\n",
      " [ 0.37076702  0.63483274]\n",
      " [-1.26958465 -1.49518065]\n",
      " [ 0.44208666  0.56826982]\n",
      " [-1.84014175 -1.56174356]\n",
      " [ 0.37076702  0.10232939]\n",
      " [-0.55638827 -0.36361104]\n",
      " [ 0.01416883 -0.29704812]\n",
      " [-0.91298646 -0.62986271]\n",
      " [ 0.72736521  1.16733609]\n",
      " [ 1.58320087  1.16733609]\n",
      " [-0.0571508   0.43514398]\n",
      " [-1.26958465 -1.09580314]\n",
      " [-0.27110972 -0.56329979]\n",
      " [ 0.44208666  0.96764733]\n",
      " [ 0.94132413  1.16733609]\n",
      " [-1.62618283 -1.56174356]\n",
      " [-1.34090428 -1.22892897]\n",
      " [ 0.87000449  0.5017069 ]\n",
      " [ 0.5134063   0.76795858]\n",
      " [ 0.08548847  0.36858107]\n",
      " [-0.62770791 -0.76298854]\n",
      " [-0.34242935 -0.2304852 ]\n",
      " [ 0.22812775  0.10232939]\n",
      " [-1.05562573 -0.89611438]\n",
      " [ 0.58472594 -0.09735936]\n",
      " [ 1.0839634   0.56826982]\n",
      " [-0.27110972  0.16889231]\n",
      " [-0.12847044 -0.36361104]\n",
      " [-0.91298646 -0.43017395]\n",
      " [-1.05562573 -1.16236605]\n",
      " [-0.0571508  -0.43017395]\n",
      " [-1.26958465 -1.22892897]\n",
      " [-1.48354356 -1.6948694 ]\n",
      " [-0.19979008 -0.2304852 ]\n",
      " [-0.77034718 -1.09580314]\n",
      " [-0.0571508   0.03576647]\n",
      " [ 1.22660268  0.36858107]\n",
      " [ 1.22660268  0.96764733]\n",
      " [ 1.72584014  2.03265402]\n",
      " [-1.76882211 -1.6948694 ]\n",
      " [ 0.29944739  0.63483274]\n",
      " [ 1.93979905  1.5667136 ]\n",
      " [ 0.44208666  0.70139566]\n",
      " [ 0.37076702 -0.16392228]\n",
      " [ 0.5134063   0.30201815]\n",
      " [ 1.29792231  1.10077317]\n",
      " [ 0.94132413  0.90108441]\n",
      " [ 0.29944739  0.96764733]\n",
      " [-0.77034718 -0.9626773 ]\n",
      " [ 0.22812775  0.03576647]\n",
      " [ 0.44208666  0.5017069 ]\n",
      " [ 0.15680811  0.30201815]\n",
      " [-1.34090428 -0.76298854]\n",
      " [-0.34242935  0.23545523]\n",
      " [ 0.87000449  0.56826982]\n",
      " [ 0.58472594  0.36858107]\n",
      " [ 2.08243833  2.03265402]\n",
      " [ 0.08548847  0.43514398]\n",
      " [-1.12694537 -0.82955146]\n",
      " [ 0.08548847 -0.2304852 ]\n",
      " [-0.12847044 -0.09735936]\n",
      " [ 1.36924195  1.36702484]\n",
      " [ 0.79868485  1.10077317]\n",
      " [-3.12389523 -3.09269069]\n",
      " [ 0.44208666  0.70139566]\n",
      " [-1.62618283 -1.56174356]\n",
      " [ 0.79868485  1.5667136 ]\n",
      " [-0.98430609 -0.56329979]\n",
      " [-0.41374899 -0.03079644]\n",
      " [-0.34242935 -0.2304852 ]\n",
      " [-1.84014175 -1.6948694 ]\n",
      " [-0.91298646 -1.02924022]\n",
      " [ 0.58472594  0.56826982]\n",
      " [ 0.29944739  0.56826982]\n",
      " [-0.19979008 -0.2304852 ]\n",
      " [-0.0571508   0.36858107]\n",
      " [-0.34242935 -0.09735936]\n",
      " [-0.91298646 -0.89611438]\n",
      " [ 0.5134063   0.90108441]\n",
      " [ 0.08548847 -0.29704812]\n",
      " [-0.27110972 -0.16392228]\n",
      " [-1.05562573 -0.89611438]\n",
      " [-2.62465776 -2.22737275]\n",
      " [-0.77034718 -0.03079644]\n",
      " [-1.98278102 -1.96112107]\n",
      " [ 1.86847942  1.69983943]\n",
      " [-1.05562573 -1.49518065]\n",
      " [ 1.36924195  1.36702484]\n",
      " [ 0.44208666  0.16889231]\n",
      " [ 0.44208666  0.5017069 ]\n",
      " [ 0.65604557  0.56826982]\n",
      " [-2.19673994 -2.09424691]\n",
      " [ 1.15528304  0.90108441]\n",
      " [-1.48354356 -0.56329979]\n",
      " [ 0.65604557  0.23545523]\n",
      " [-0.48506863 -0.36361104]\n",
      " [ 1.0839634   0.43514398]\n",
      " [ 1.01264376  0.76795858]\n",
      " [-0.19979008  0.36858107]\n",
      " [-2.76729704 -2.75987609]\n",
      " [ 1.58320087  1.43358776]\n",
      " [ 1.51188123  1.36702484]\n",
      " [-0.27110972  0.36858107]\n",
      " [-0.62770791 -0.43017395]\n",
      " [ 0.22812775  0.36858107]\n",
      " [-1.84014175 -1.16236605]\n",
      " [ 0.72736521  0.36858107]\n",
      " [-0.19979008 -0.2304852 ]\n",
      " [-1.41222392 -1.09580314]\n",
      " [-0.19979008 -0.2304852 ]\n",
      " [-0.62770791 -0.56329979]\n",
      " [ 0.01416883 -0.29704812]\n",
      " [ 0.44208666  0.63483274]\n",
      " [ 0.5134063   0.5017069 ]\n",
      " [-1.62618283 -1.56174356]\n",
      " [-0.27110972 -0.09735936]\n",
      " [ 1.72584014  1.5667136 ]\n",
      " [ 0.29944739  0.23545523]\n",
      " [ 0.87000449  0.63483274]\n",
      " [-0.84166682 -1.22892897]\n",
      " [-1.48354356 -1.09580314]\n",
      " [-1.91146139 -1.09580314]\n",
      " [-0.77034718 -0.9626773 ]\n",
      " [-0.62770791 -0.56329979]\n",
      " [-2.19673994 -2.22737275]\n",
      " [ 0.37076702  0.83452149]\n",
      " [-0.34242935 -0.03079644]\n",
      " [ 0.01416883  1.16733609]\n",
      " [-0.27110972 -0.43017395]\n",
      " [ 0.79868485  0.83452149]\n",
      " [-0.34242935 -0.49673687]\n",
      " [ 0.72736521  1.03421025]\n",
      " [ 0.44208666  0.03576647]\n",
      " [ 1.29792231  1.30046192]\n",
      " [-1.19826501 -1.42861773]\n",
      " [ 0.44208666  0.43514398]\n",
      " [-0.12847044  0.10232939]\n",
      " [ 0.65604557  0.83452149]\n",
      " [ 0.44208666  0.36858107]\n",
      " [ 0.58472594 -0.29704812]\n",
      " [ 1.29792231  1.10077317]\n",
      " [ 0.08548847  0.56826982]\n",
      " [-0.91298646 -0.89611438]\n",
      " [-0.27110972  0.03576647]\n",
      " [ 1.51188123  0.90108441]\n",
      " [ 2.08243833  2.03265402]\n",
      " [ 0.01416883 -0.49673687]\n",
      " [-1.84014175 -1.82799524]\n",
      " [-1.41222392 -1.76143232]\n",
      " [-1.62618283 -2.4270615 ]\n",
      " [-1.05562573 -0.89611438]\n",
      " [-1.62618283 -1.36205481]\n",
      " [ 0.58472594  0.76795858]\n",
      " [-1.69750247 -1.62830648]\n",
      " [-2.6959774  -2.49362442]\n",
      " [-1.05562573 -0.82955146]\n",
      " [-0.0571508   0.16889231]\n",
      " [ 1.44056159  1.76640235]\n",
      " [-1.62618283 -1.36205481]\n",
      " [-1.05562573 -0.62986271]\n",
      " [-0.0571508  -0.16392228]\n",
      " [-1.69750247 -1.62830648]\n",
      " [-0.34242935 -0.43017395]\n",
      " [ 0.22812775  0.70139566]\n",
      " [-0.62770791 -0.16392228]\n",
      " [-0.34242935 -0.56329979]\n",
      " [ 0.22812775  0.23545523]\n",
      " [-0.0571508   0.10232939]\n",
      " [-1.05562573 -1.02924022]\n",
      " [ 0.72736521  0.5017069 ]\n",
      " [-1.19826501 -1.42861773]\n",
      " [ 1.0839634   1.233899  ]\n",
      " [ 0.94132413  1.233899  ]\n",
      " [-0.98430609 -1.02924022]\n",
      " [-1.41222392 -0.9626773 ]\n",
      " [ 0.65604557  0.43514398]\n",
      " [-1.12694537 -1.29549189]\n",
      " [ 0.5134063   1.36702484]\n",
      " [ 1.72584014  1.96609111]\n",
      " [-0.12847044 -0.16392228]\n",
      " [-0.77034718 -0.69642563]\n",
      " [ 1.86847942  1.43358776]\n",
      " [-0.55638827 -0.43017395]\n",
      " [ 0.94132413  0.56826982]\n",
      " [-0.12847044 -0.43017395]\n",
      " [-1.05562573 -1.16236605]\n",
      " [ 0.37076702  0.10232939]\n",
      " [ 0.29944739  0.76795858]\n",
      " [ 1.01264376  0.96764733]\n",
      " [-1.84014175 -1.6948694 ]\n",
      " [-0.48506863 -0.43017395]\n",
      " [-0.27110972  0.16889231]\n",
      " [-0.34242935  0.16889231]\n",
      " [-1.26958465 -0.9626773 ]\n",
      " [-0.69902754 -0.82955146]\n",
      " [-0.27110972 -0.16392228]\n",
      " [ 0.58472594  0.70139566]\n",
      " [ 0.37076702  0.76795858]\n",
      " [-1.76882211 -1.42861773]\n",
      " [-0.12847044 -0.89611438]\n",
      " [-0.98430609 -0.9626773 ]\n",
      " [-1.05562573 -0.82955146]\n",
      " [ 0.22812775  0.30201815]\n",
      " [ 0.58472594  0.63483274]\n",
      " [ 0.15680811  0.5017069 ]\n",
      " [-0.41374899 -0.89611438]\n",
      " [-0.62770791 -0.43017395]\n",
      " [-0.41374899 -0.89611438]\n",
      " [ 0.79868485  1.03421025]\n",
      " [ 0.58472594  0.43514398]\n",
      " [ 1.36924195  1.36702484]\n",
      " [ 0.79868485  0.83452149]\n",
      " [-1.34090428 -1.62830648]\n",
      " [-0.27110972 -0.49673687]\n",
      " [ 0.87000449  0.70139566]\n",
      " [-0.69902754 -0.82955146]\n",
      " [ 1.22660268  1.63327651]\n",
      " [-0.98430609 -1.09580314]\n",
      " [-0.12847044  0.23545523]\n",
      " [ 1.29792231  1.10077317]\n",
      " [-1.05562573 -1.09580314]\n",
      " [-0.27110972  0.23545523]\n",
      " [ 1.86847942  1.50015068]\n",
      " [-0.98430609 -0.76298854]\n",
      " [ 0.44208666  0.5017069 ]\n",
      " [ 0.15680811 -0.03079644]\n",
      " [ 1.22660268  1.16733609]\n",
      " [ 0.37076702  0.5017069 ]\n",
      " [ 1.0839634   0.96764733]\n",
      " [ 1.0839634   1.16733609]]\n"
     ]
    }
   ],
   "source": [
    "print(X_test)"
   ]
  },
  {
   "cell_type": "markdown",
   "metadata": {
    "colab_type": "text",
    "id": "bb6jCOCQiAmP"
   },
   "source": [
    "## Training model KNN pada Training set"
   ]
  },
  {
   "cell_type": "code",
   "execution_count": 17,
   "metadata": {
    "colab": {
     "base_uri": "https://localhost:8080/",
     "height": 67
    },
    "colab_type": "code",
    "executionInfo": {
     "elapsed": 921,
     "status": "ok",
     "timestamp": 1586363337184,
     "user": {
      "displayName": "Hadelin de Ponteves",
      "photoUrl": "https://lh3.googleusercontent.com/a-/AOh14GhEuXdT7eQweUmRPW8_laJuPggSK6hfvpl5a6WBaA=s64",
      "userId": "15047218817161520419"
     },
     "user_tz": -240
    },
    "id": "e0pFVAmciHQs",
    "outputId": "28d56fc8-fa33-49a6-f1a6-e320e91fbdda"
   },
   "outputs": [
    {
     "data": {
      "text/plain": [
       "KNeighborsClassifier()"
      ]
     },
     "execution_count": 17,
     "metadata": {},
     "output_type": "execute_result"
    }
   ],
   "source": [
    "from sklearn.neighbors import KNeighborsClassifier\n",
    "classifier = KNeighborsClassifier(n_neighbors = 5, metric = 'minkowski', p = 2)\n",
    "classifier.fit(X_train, y_train)"
   ]
  },
  {
   "cell_type": "markdown",
   "metadata": {
    "colab_type": "text",
    "id": "ZmePIEiiiKyw"
   },
   "source": [
    "## Membuat variabel prediksi dan hasil tes set"
   ]
  },
  {
   "cell_type": "code",
   "execution_count": 18,
   "metadata": {
    "colab": {},
    "colab_type": "code",
    "id": "aWK4AcCgiNwF"
   },
   "outputs": [
    {
     "name": "stderr",
     "output_type": "stream",
     "text": [
      "C:\\ProgramData\\Anaconda3\\lib\\site-packages\\sklearn\\neighbors\\_classification.py:228: FutureWarning: Unlike other reduction functions (e.g. `skew`, `kurtosis`), the default behavior of `mode` typically preserves the axis it acts along. In SciPy 1.11.0, this behavior will change: the default value of `keepdims` will become False, the `axis` over which the statistic is taken will be eliminated, and the value None will no longer be accepted. Set `keepdims` to True or False to avoid this warning.\n",
      "  mode, _ = stats.mode(_y[neigh_ind, k], axis=1)\n"
     ]
    }
   ],
   "source": [
    "y_pred = classifier.predict(X_test)"
   ]
  },
  {
   "cell_type": "markdown",
   "metadata": {
    "colab_type": "text",
    "id": "h4Hwj34ziWQW"
   },
   "source": [
    "## Membuat Confusion Matrix\n",
    "berfungsi untuk mengetahui nilai akurasi, caranya yakni dengan membagi 117+36 dengan keseluruhan data yaitu 117+36+58+39 setelah itu mengalikannya dengan 100. Dengan begitu akan menghasilkan tingkat akurasi 61.2 persen"
   ]
  },
  {
   "cell_type": "code",
   "execution_count": 19,
   "metadata": {
    "colab": {
     "base_uri": "https://localhost:8080/",
     "height": 50
    },
    "colab_type": "code",
    "executionInfo": {
     "elapsed": 896,
     "status": "ok",
     "timestamp": 1586363344426,
     "user": {
      "displayName": "Hadelin de Ponteves",
      "photoUrl": "https://lh3.googleusercontent.com/a-/AOh14GhEuXdT7eQweUmRPW8_laJuPggSK6hfvpl5a6WBaA=s64",
      "userId": "15047218817161520419"
     },
     "user_tz": -240
    },
    "id": "D6bpZwUiiXic",
    "outputId": "82881019-9e70-4c9c-f9f9-ff7a42412fbf"
   },
   "outputs": [
    {
     "name": "stdout",
     "output_type": "stream",
     "text": [
      "[[117  39]\n",
      " [ 58  36]]\n"
     ]
    }
   ],
   "source": [
    "from sklearn.metrics import confusion_matrix\n",
    "cm = confusion_matrix(y_test, y_pred)\n",
    "print(cm)"
   ]
  },
  {
   "cell_type": "markdown",
   "metadata": {
    "colab_type": "text",
    "id": "6OMC_P0diaoD"
   },
   "source": [
    "## Memvisualisasikan hasil Training Set"
   ]
  },
  {
   "cell_type": "code",
   "execution_count": 20,
   "metadata": {
    "colab": {
     "base_uri": "https://localhost:8080/",
     "height": 349
    },
    "colab_type": "code",
    "executionInfo": {
     "elapsed": 9921,
     "status": "ok",
     "timestamp": 1586363360123,
     "user": {
      "displayName": "Hadelin de Ponteves",
      "photoUrl": "https://lh3.googleusercontent.com/a-/AOh14GhEuXdT7eQweUmRPW8_laJuPggSK6hfvpl5a6WBaA=s64",
      "userId": "15047218817161520419"
     },
     "user_tz": -240
    },
    "id": "_NOjKvZRid5l",
    "outputId": "e71d372e-a2d5-488a-aeda-8ebb2a1cd4cc"
   },
   "outputs": [
    {
     "name": "stderr",
     "output_type": "stream",
     "text": [
      "C:\\ProgramData\\Anaconda3\\lib\\site-packages\\sklearn\\neighbors\\_classification.py:228: FutureWarning: Unlike other reduction functions (e.g. `skew`, `kurtosis`), the default behavior of `mode` typically preserves the axis it acts along. In SciPy 1.11.0, this behavior will change: the default value of `keepdims` will become False, the `axis` over which the statistic is taken will be eliminated, and the value None will no longer be accepted. Set `keepdims` to True or False to avoid this warning.\n",
      "  mode, _ = stats.mode(_y[neigh_ind, k], axis=1)\n",
      "*c* argument looks like a single numeric RGB or RGBA sequence, which should be avoided as value-mapping will have precedence in case its length matches with *x* & *y*.  Please use the *color* keyword-argument or provide a 2D array with a single row if you intend to specify the same RGB or RGBA value for all points.\n",
      "*c* argument looks like a single numeric RGB or RGBA sequence, which should be avoided as value-mapping will have precedence in case its length matches with *x* & *y*.  Please use the *color* keyword-argument or provide a 2D array with a single row if you intend to specify the same RGB or RGBA value for all points.\n"
     ]
    },
    {
     "data": {
      "image/png": "[encoded data removed]",
      "text/plain": [
       "<Figure size 640x480 with 1 Axes>"
      ]
     },
     "metadata": {},
     "output_type": "display_data"
    }
   ],
   "source": [
    "from matplotlib.colors import ListedColormap\n",
    "X_set, y_set = X_train, y_train\n",
    "X1, X2 = np.meshgrid(np.arange(start = X_set[:, 0].min() - 1, stop = X_set[:, 0].max() + 1, step = 0.01),\n",
    "                     np.arange(start = X_set[:, 1].min() - 1, stop = X_set[:, 1].max() + 1, step = 0.01))\n",
    "plt.contourf(X1, X2, classifier.predict(np.array([X1.ravel(), X2.ravel()]).T).reshape(X1.shape),\n",
    "             alpha = 0.75, cmap = ListedColormap(('red', 'green')))\n",
    "plt.xlim(X1.min(), X1.max())\n",
    "plt.ylim(X2.min(), X2.max())\n",
    "for i, j in enumerate(np.unique(y_set)):\n",
    "    plt.scatter(X_set[y_set == j, 0], X_set[y_set == j, 1],\n",
    "                c = ListedColormap(('red', 'green'))(i), label = j)\n",
    "plt.title('Klasifikasi Data dengan K-NN (Training set)')\n",
    "plt.xlabel('Reading Score')\n",
    "plt.ylabel('Writing Score')\n",
    "plt.legend()\n",
    "plt.show()"
   ]
  },
  {
   "cell_type": "markdown",
   "metadata": {
    "colab_type": "text",
    "id": "SZ-j28aPihZx"
   },
   "source": [
    "## Memvisualisasikan hasil Test Set"
   ]
  },
  {
   "cell_type": "code",
   "execution_count": 21,
   "metadata": {
    "colab": {
     "base_uri": "https://localhost:8080/",
     "height": 349
    },
    "colab_type": "code",
    "executionInfo": {
     "elapsed": 9993,
     "status": "ok",
     "timestamp": 1586363375585,
     "user": {
      "displayName": "Hadelin de Ponteves",
      "photoUrl": "https://lh3.googleusercontent.com/a-/AOh14GhEuXdT7eQweUmRPW8_laJuPggSK6hfvpl5a6WBaA=s64",
      "userId": "15047218817161520419"
     },
     "user_tz": -240
    },
    "id": "qeTjz2vDilAC",
    "outputId": "2a1abc00-4d6d-499b-c21b-3acb7209bb5c"
   },
   "outputs": [
    {
     "name": "stderr",
     "output_type": "stream",
     "text": [
      "C:\\ProgramData\\Anaconda3\\lib\\site-packages\\sklearn\\neighbors\\_classification.py:228: FutureWarning: Unlike other reduction functions (e.g. `skew`, `kurtosis`), the default behavior of `mode` typically preserves the axis it acts along. In SciPy 1.11.0, this behavior will change: the default value of `keepdims` will become False, the `axis` over which the statistic is taken will be eliminated, and the value None will no longer be accepted. Set `keepdims` to True or False to avoid this warning.\n",
      "  mode, _ = stats.mode(_y[neigh_ind, k], axis=1)\n",
      "*c* argument looks like a single numeric RGB or RGBA sequence, which should be avoided as value-mapping will have precedence in case its length matches with *x* & *y*.  Please use the *color* keyword-argument or provide a 2D array with a single row if you intend to specify the same RGB or RGBA value for all points.\n",
      "*c* argument looks like a single numeric RGB or RGBA sequence, which should be avoided as value-mapping will have precedence in case its length matches with *x* & *y*.  Please use the *color* keyword-argument or provide a 2D array with a single row if you intend to specify the same RGB or RGBA value for all points.\n"
     ]
    },
    {
     "data": {
      "image/png": "[encoded data removed]",
      "text/plain": [
       "<Figure size 640x480 with 1 Axes>"
      ]
     },
     "metadata": {},
     "output_type": "display_data"
    }
   ],
   "source": [
    "from matplotlib.colors import ListedColormap\n",
    "X_set, y_set = X_test, y_test\n",
    "X1, X2 = np.meshgrid(np.arange(start = X_set[:, 0].min() - 1, stop = X_set[:, 0].max() + 1, step = 0.01),\n",
    "                     np.arange(start = X_set[:, 1].min() - 1, stop = X_set[:, 1].max() + 1, step = 0.01))\n",
    "plt.contourf(X1, X2, classifier.predict(np.array([X1.ravel(), X2.ravel()]).T).reshape(X1.shape),\n",
    "             alpha = 0.75, cmap = ListedColormap(('red', 'green')))\n",
    "plt.xlim(X1.min(), X1.max())\n",
    "plt.ylim(X2.min(), X2.max())\n",
    "for i, j in enumerate(np.unique(y_set)):\n",
    "    plt.scatter(X_set[y_set == j, 0], X_set[y_set == j, 1],\n",
    "                c = ListedColormap(('red', 'green'))(i), label = j)\n",
    "plt.title('Klasifikasi Data dengan K-NN (Test set)')\n",
    "plt.xlabel('Reading Score')\n",
    "plt.ylabel('Writing Score')\n",
    "plt.legend()\n",
    "plt.show()"
   ]
  }
 ],
 "metadata": {
  "colab": {
   "authorship_tag": "ABX9TyOvPRvyxj4c8gWi6gDUi2AI",
   "name": "K-Nearest Neighbors",
   "provenance": [],
   "toc_visible": true
  },
  "kernelspec": {
   "display_name": "Python 3 (ipykernel)",
   "language": "python",
   "name": "python3"
  },
  "language_info": {
   "codemirror_mode": {
    "name": "ipython",
    "version": 3
   },
   "file_extension": ".py",
   "mimetype": "text/x-python",
   "name": "python",
   "nbconvert_exporter": "python",
   "pygments_lexer": "ipython3",
   "version": "3.9.13"
  }
 },
 "nbformat": 4,
 "nbformat_minor": 2
}
